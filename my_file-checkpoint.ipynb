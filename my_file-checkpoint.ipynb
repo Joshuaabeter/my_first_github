{
 "cells": [
  {
   "cell_type": "code",
   "execution_count": null,
   "id": "7102fd0f",
   "metadata": {},
   "outputs": [],
   "source": [
    "while True:\n",
    "    value=input('Enter a number: ')\n",
    "    if value=='quit':\n",
    "        print('Good bye')\n",
    "        break\n",
    "    if not value.isdigit:\n",
    "        print('Enter interger only ')\n",
    "        continue\n",
    "    value=int(value)\n",
    "    print('The cube of %d is %d' %(value, value**3))\n",
    "    \n",
    "    "
   ]
  },
  {
   "cell_type": "code",
   "execution_count": null,
   "id": "60d585e8",
   "metadata": {},
   "outputs": [],
   "source": []
  }
 ],
 "metadata": {
  "kernelspec": {
   "display_name": "Python 3 (ipykernel)",
   "language": "python",
   "name": "python3"
  }
 },
 "nbformat": 4,
 "nbformat_minor": 5
}
